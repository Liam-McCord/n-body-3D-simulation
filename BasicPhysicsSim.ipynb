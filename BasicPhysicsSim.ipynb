{
 "cells": [
  {
   "cell_type": "code",
   "execution_count": 3,
   "metadata": {},
   "outputs": [
    {
     "name": "stdout",
     "output_type": "stream",
     "text": [
      "9.81\n",
      "It took 12 seconds for the projectile to land.\n"
     ]
    },
    {
     "data": {
      "text/plain": [
       "<matplotlib.collections.PathCollection at 0x194369aa200>"
      ]
     },
     "execution_count": 3,
     "metadata": {},
     "output_type": "execute_result"
    },
    {
     "data": {
      "image/png": "[encoded data removed]",
      "text/plain": [
       "<Figure size 640x480 with 1 Axes>"
      ]
     },
     "metadata": {},
     "output_type": "display_data"
    }
   ],
   "source": [
    "import matplotlib.pyplot as plt\n",
    "import numpy as np\n",
    "\n",
    "BundleTime = []\n",
    "BundleHeight = []\n",
    "BundleLateral = []\n",
    "XVelocity = 0\n",
    "YVelocity = 0 \n",
    "XPosition = 0\n",
    "YPosition = 0\n",
    "StepsPerSecond = int(input(\"Steps per second? \"))\n",
    "WhenToStartThrust = int(input(\"At what second do I start thrust?\" ))\n",
    "WhenToEndThrust = int(input(\"At what second do I stop thrust?\" ))\n",
    "ThrustStrength = int(input(\"What is my thrust acceleration? \"))\n",
    "#Initial Object Conditions (Measured in metres and m/s)\n",
    "\n",
    "GravityAccel = 9.81\n",
    "#Initial Simulation Force Conditions\n",
    "\n",
    "print(GravityAccel)\n",
    "\n",
    "XVelocity = 200\n",
    "YVelocity = 55\n",
    "running = True\n",
    "\n",
    "\n",
    "TimeTracker = 0\n",
    "Timetrackerconstant = 1 / StepsPerSecond\n",
    "\n",
    "while running == True:\n",
    "    BundleTime.append(TimeTracker)\n",
    "    BundleHeight.append(YPosition)\n",
    "    BundleLateral.append(XPosition)\n",
    "    YPosition = YPosition + (YVelocity / StepsPerSecond)\n",
    "    XPosition = XPosition  + (XVelocity / StepsPerSecond)\n",
    "    YVelocity = YVelocity - (GravityAccel / StepsPerSecond)\n",
    "    TimeTracker = TimeTracker + Timetrackerconstant\n",
    "\n",
    "    RoundedTime = round(TimeTracker)\n",
    "    if RoundedTime > (WhenToStartThrust - 1) and RoundedTime < (WhenToEndThrust + 1):\n",
    "        YVelocity = YVelocity + (ThrustStrength / StepsPerSecond)\n",
    "    if YPosition < 0:\n",
    "        break\n",
    "SecondsTaken = RoundedTime\n",
    "\n",
    "print(\"It took {} seconds for the projectile to land.\".format(SecondsTaken))\n",
    "\n",
    "# plt.plot(BundleTime, BundleHeight)\n",
    "\n",
    "plt.scatter(BundleLateral, BundleHeight)\n",
    "\n",
    "\n",
    "\n",
    "\n",
    "\n",
    "\n",
    "\n",
    "\n",
    "fig = plt.figure(figsize = (10,10))\n",
    "ax = fig.add_subplot(111, projection='3d')\n",
    "zline = ZBundle\n",
    "xline = XBundle\n",
    "yline = YBundle\n",
    "ax.plot3D(xline, yline, zline, 'gray')\n",
    "u = np.linspace(0, 2 * np.pi, 100)\n",
    "v = np.linspace(0, np.pi, 100)\n",
    "\n",
    "\n",
    "ax.set_xlabel('X')\n",
    "ax.set_xlim(-Object2Radius * 5, Object2Radius * 5)\n",
    "ax.set_ylabel('Y')\n",
    "ax.set_ylim(-Object2Radius * 5, Object2Radius * 5)\n",
    "ax.set_zlabel('Z')\n",
    "ax.set_zlim(-Object2Radius * 5, Object2Radius * 5)\n",
    "\n",
    "x = 1737400 * np.outer(np.cos(u), np.sin(v))\n",
    "y = 1737400 * np.outer(np.sin(u), np.sin(v))\n",
    "z = 1737400 * np.outer(np.ones(np.size(u)), np.cos(v))\n",
    "ax.plot_surface(x, y, z, rstride=4, cstride=4, color='b')\n",
    "\n",
    "\n",
    "\n"
   ]
  }
 ],
 "metadata": {
  "kernelspec": {
   "display_name": "Python 3",
   "language": "python",
   "name": "python3"
  },
  "language_info": {
   "codemirror_mode": {
    "name": "ipython",
    "version": 3
   },
   "file_extension": ".py",
   "mimetype": "text/x-python",
   "name": "python",
   "nbconvert_exporter": "python",
   "pygments_lexer": "ipython3",
   "version": "3.10.4"
  },
  "orig_nbformat": 4,
  "vscode": {
   "interpreter": {
    "hash": "06d9aae523bc63cc17cc43596ea62c9a9e8e8ea07d66ece30aa55c658533814b"
   }
  }
 },
 "nbformat": 4,
 "nbformat_minor": 2
}
